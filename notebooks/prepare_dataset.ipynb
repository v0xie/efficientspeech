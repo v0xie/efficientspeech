{
  "nbformat": 4,
  "nbformat_minor": 0,
  "metadata": {
    "colab": {
      "provenance": [],
      "collapsed_sections": [
        "moJ46xEYJFt8",
        "Yat81N2Bt5KC",
        "abIprDRxs3ic",
        "l7zKQ52ExX_d",
        "WwgRs06k1Z0v",
        "f_lDZDAzWYDg",
        "xIxc6NUtfuKX"
      ],
      "history_visible": true,
      "gpuType": "T4"
    },
    "kernelspec": {
      "name": "python3",
      "display_name": "Python 3"
    },
    "language_info": {
      "name": "python"
    },
    "accelerator": "GPU",
    "gpuClass": "standard"
  },
  "cells": [
    {
      "cell_type": "markdown",
      "source": [
        "### Install Conda\n",
        "The runtime will restart after installation, please execute the remaining cells after the restart."
      ],
      "metadata": {
        "id": "moJ46xEYJFt8"
      }
    },
    {
      "cell_type": "code",
      "source": [
        "!pip install -q condacolab\n",
        "import condacolab\n",
        "condacolab.install()"
      ],
      "metadata": {
        "colab": {
          "base_uri": "https://localhost:8080/"
        },
        "id": "i8vSGcVLx7zt",
        "outputId": "19b390ad-1d9f-4e44-9d10-dd41e815ded9"
      },
      "execution_count": 1,
      "outputs": [
        {
          "output_type": "stream",
          "name": "stdout",
          "text": [
            "⏬ Downloading https://github.com/conda-forge/miniforge/releases/download/23.1.0-1/Mambaforge-23.1.0-1-Linux-x86_64.sh...\n",
            "📦 Installing...\n",
            "📌 Adjusting configuration...\n",
            "🩹 Patching environment...\n",
            "⏲ Done in 0:00:13\n",
            "🔁 Restarting kernel...\n"
          ]
        }
      ]
    },
    {
      "cell_type": "markdown",
      "source": [
        "### Setup dependencies"
      ],
      "metadata": {
        "id": "Yat81N2Bt5KC"
      }
    },
    {
      "cell_type": "code",
      "source": [
        "from google.colab import drive\n",
        "drive.mount('/gdrive')"
      ],
      "metadata": {
        "colab": {
          "base_uri": "https://localhost:8080/"
        },
        "id": "CYFbIeW2sv30",
        "outputId": "79ed186d-5fb8-4a86-983e-ae32994a8cc3"
      },
      "execution_count": 15,
      "outputs": [
        {
          "output_type": "stream",
          "name": "stdout",
          "text": [
            "Drive already mounted at /gdrive; to attempt to forcibly remount, call drive.mount(\"/gdrive\", force_remount=True).\n"
          ]
        }
      ]
    },
    {
      "cell_type": "code",
      "execution_count": 16,
      "metadata": {
        "colab": {
          "base_uri": "https://localhost:8080/"
        },
        "id": "tUca-LTTc4fi",
        "outputId": "a3998c6d-4864-4240-eeff-07138bbee910"
      },
      "outputs": [
        {
          "output_type": "stream",
          "name": "stdout",
          "text": [
            "/content\n",
            "fatal: destination path 'FastSpeech2' already exists and is not an empty directory.\n"
          ]
        }
      ],
      "source": [
        "%cd /content/\n",
        "!git clone https://github.com/ming024/FastSpeech2"
      ]
    },
    {
      "cell_type": "code",
      "source": [
        "!pip install pyyaml==6.0 unidecode==1.3.6 tgt==1.4.4 pyworld==0.2.10\n",
        "!pip install librosa==0.9.2 numba==0.57.0\n",
        "#!pip install --force-reinstall numpy==1.24.3\n",
        "\n",
        "#if you run into issues, try installing with --force-reinstall"
      ],
      "metadata": {
        "colab": {
          "base_uri": "https://localhost:8080/"
        },
        "id": "-qwtygw1aEGv",
        "outputId": "8acf491e-bdc9-46c1-99ef-8840063c2ebd"
      },
      "execution_count": 3,
      "outputs": [
        {
          "output_type": "stream",
          "name": "stdout",
          "text": [
            "Looking in indexes: https://pypi.org/simple, https://us-python.pkg.dev/colab-wheels/public/simple/\n",
            "Collecting pyyaml==6.0\n",
            "  Downloading PyYAML-6.0-cp310-cp310-manylinux_2_5_x86_64.manylinux1_x86_64.manylinux_2_12_x86_64.manylinux2010_x86_64.whl (682 kB)\n",
            "\u001b[2K     \u001b[90m━━━━━━━━━━━━━━━━━━━━━━━━━━━━━━━━━━━━━━\u001b[0m \u001b[32m682.2/682.2 kB\u001b[0m \u001b[31m13.1 MB/s\u001b[0m eta \u001b[36m0:00:00\u001b[0m\n",
            "\u001b[?25hCollecting unidecode==1.3.6\n",
            "  Downloading Unidecode-1.3.6-py3-none-any.whl (235 kB)\n",
            "\u001b[2K     \u001b[90m━━━━━━━━━━━━━━━━━━━━━━━━━━━━━━━━━━━━━━\u001b[0m \u001b[32m235.9/235.9 kB\u001b[0m \u001b[31m25.4 MB/s\u001b[0m eta \u001b[36m0:00:00\u001b[0m\n",
            "\u001b[?25hCollecting tgt==1.4.4\n",
            "  Downloading tgt-1.4.4.tar.gz (21 kB)\n",
            "  Preparing metadata (setup.py) ... \u001b[?25l\u001b[?25hdone\n",
            "Collecting pyworld==0.2.10\n",
            "  Downloading pyworld-0.2.10.tar.gz (73 kB)\n",
            "\u001b[2K     \u001b[90m━━━━━━━━━━━━━━━━━━━━━━━━━━━━━━━━━━━━━━━━\u001b[0m \u001b[32m74.0/74.0 kB\u001b[0m \u001b[31m5.7 MB/s\u001b[0m eta \u001b[36m0:00:00\u001b[0m\n",
            "\u001b[?25h  Preparing metadata (setup.py) ... \u001b[?25l\u001b[?25hdone\n",
            "Collecting numpy\n",
            "  Using cached numpy-1.24.3-cp310-cp310-manylinux_2_17_x86_64.manylinux2014_x86_64.whl (17.3 MB)\n",
            "Collecting cython>=0.24.0\n",
            "  Downloading Cython-0.29.34-cp310-cp310-manylinux_2_17_x86_64.manylinux2014_x86_64.manylinux_2_24_x86_64.whl (1.9 MB)\n",
            "\u001b[2K     \u001b[90m━━━━━━━━━━━━━━━━━━━━━━━━━━━━━━━━━━━━━━━━\u001b[0m \u001b[32m1.9/1.9 MB\u001b[0m \u001b[31m55.0 MB/s\u001b[0m eta \u001b[36m0:00:00\u001b[0m\n",
            "\u001b[?25hBuilding wheels for collected packages: tgt, pyworld\n",
            "  Building wheel for tgt (setup.py) ... \u001b[?25l\u001b[?25hdone\n",
            "  Created wheel for tgt: filename=tgt-1.4.4-py3-none-any.whl size=28903 sha256=ae869db3d967c69711019f33430b1a23f6f0e3cddc0bddf6f70c1f14a16bd490\n",
            "  Stored in directory: /root/.cache/pip/wheels/09/e6/aa/821531faeb4e05a65d1c763570e90791467cf0c3f1622dc7e2\n",
            "  \u001b[1;31merror\u001b[0m: \u001b[1msubprocess-exited-with-error\u001b[0m\n",
            "  \n",
            "  \u001b[31m×\u001b[0m \u001b[32mpython setup.py bdist_wheel\u001b[0m did not run successfully.\n",
            "  \u001b[31m│\u001b[0m exit code: \u001b[1;36m1\u001b[0m\n",
            "  \u001b[31m╰─>\u001b[0m See above for output.\n",
            "  \n",
            "  \u001b[1;35mnote\u001b[0m: This error originates from a subprocess, and is likely not a problem with pip.\n",
            "  Building wheel for pyworld (setup.py) ... \u001b[?25lerror\n",
            "\u001b[31m  ERROR: Failed building wheel for pyworld\u001b[0m\u001b[31m\n",
            "\u001b[0m\u001b[?25h  Running setup.py clean for pyworld\n",
            "Successfully built tgt\n",
            "Failed to build pyworld\n",
            "Installing collected packages: tgt, unidecode, pyyaml, numpy, cython, pyworld\n",
            "  Running setup.py install for pyworld ... \u001b[?25l\u001b[?25hdone\n",
            "\u001b[33m  DEPRECATION: pyworld was installed using the legacy 'setup.py install' method, because a wheel could not be built for it. pip 23.1 will enforce this behaviour change. A possible replacement is to fix the wheel build issue reported above. Discussion can be found at https://github.com/pypa/pip/issues/8368\u001b[0m\u001b[33m\n",
            "\u001b[0mSuccessfully installed cython-0.29.34 numpy-1.24.3 pyworld-0.2.10 pyyaml-6.0 tgt-1.4.4 unidecode-1.3.6\n",
            "\u001b[33mWARNING: Running pip as the 'root' user can result in broken permissions and conflicting behaviour with the system package manager. It is recommended to use a virtual environment instead: https://pip.pypa.io/warnings/venv\u001b[0m\u001b[33m\n",
            "\u001b[0mLooking in indexes: https://pypi.org/simple, https://us-python.pkg.dev/colab-wheels/public/simple/\n",
            "Collecting librosa==0.9.2\n",
            "  Downloading librosa-0.9.2-py3-none-any.whl (214 kB)\n",
            "\u001b[2K     \u001b[90m━━━━━━━━━━━━━━━━━━━━━━━━━━━━━━━━━━━━━━━\u001b[0m \u001b[32m214.3/214.3 kB\u001b[0m \u001b[31m6.1 MB/s\u001b[0m eta \u001b[36m0:00:00\u001b[0m\n",
            "\u001b[?25hCollecting numba==0.57.0\n",
            "  Downloading numba-0.57.0-cp310-cp310-manylinux2014_x86_64.manylinux_2_17_x86_64.whl (3.6 MB)\n",
            "\u001b[2K     \u001b[90m━━━━━━━━━━━━━━━━━━━━━━━━━━━━━━━━━━━━━━━━\u001b[0m \u001b[32m3.6/3.6 MB\u001b[0m \u001b[31m33.6 MB/s\u001b[0m eta \u001b[36m0:00:00\u001b[0m\n",
            "\u001b[?25hCollecting audioread>=2.1.9\n",
            "  Downloading audioread-3.0.0.tar.gz (377 kB)\n",
            "\u001b[2K     \u001b[90m━━━━━━━━━━━━━━━━━━━━━━━━━━━━━━━━━━━━━━\u001b[0m \u001b[32m377.0/377.0 kB\u001b[0m \u001b[31m36.6 MB/s\u001b[0m eta \u001b[36m0:00:00\u001b[0m\n",
            "\u001b[?25h  Preparing metadata (setup.py) ... \u001b[?25l\u001b[?25hdone\n",
            "Collecting joblib>=0.14\n",
            "  Downloading joblib-1.2.0-py3-none-any.whl (297 kB)\n",
            "\u001b[2K     \u001b[90m━━━━━━━━━━━━━━━━━━━━━━━━━━━━━━━━━━━━━━\u001b[0m \u001b[32m298.0/298.0 kB\u001b[0m \u001b[31m27.1 MB/s\u001b[0m eta \u001b[36m0:00:00\u001b[0m\n",
            "\u001b[?25hCollecting decorator>=4.0.10\n",
            "  Downloading decorator-5.1.1-py3-none-any.whl (9.1 kB)\n",
            "Collecting scipy>=1.2.0\n",
            "  Downloading scipy-1.10.1-cp310-cp310-manylinux_2_17_x86_64.manylinux2014_x86_64.whl (34.4 MB)\n",
            "\u001b[2K     \u001b[90m━━━━━━━━━━━━━━━━━━━━━━━━━━━━━━━━━━━━━━━━\u001b[0m \u001b[32m34.4/34.4 MB\u001b[0m \u001b[31m33.8 MB/s\u001b[0m eta \u001b[36m0:00:00\u001b[0m\n",
            "\u001b[?25hCollecting pooch>=1.0\n",
            "  Downloading pooch-1.7.0-py3-none-any.whl (60 kB)\n",
            "\u001b[2K     \u001b[90m━━━━━━━━━━━━━━━━━━━━━━━━━━━━━━━━━━━━━━━━\u001b[0m \u001b[32m60.9/60.9 kB\u001b[0m \u001b[31m8.1 MB/s\u001b[0m eta \u001b[36m0:00:00\u001b[0m\n",
            "\u001b[?25hCollecting soundfile>=0.10.2\n",
            "  Downloading soundfile-0.12.1-py2.py3-none-manylinux_2_31_x86_64.whl (1.2 MB)\n",
            "\u001b[2K     \u001b[90m━━━━━━━━━━━━━━━━━━━━━━━━━━━━━━━━━━━━━━━━\u001b[0m \u001b[32m1.2/1.2 MB\u001b[0m \u001b[31m70.8 MB/s\u001b[0m eta \u001b[36m0:00:00\u001b[0m\n",
            "\u001b[?25hCollecting packaging>=20.0\n",
            "  Downloading packaging-23.1-py3-none-any.whl (48 kB)\n",
            "\u001b[2K     \u001b[90m━━━━━━━━━━━━━━━━━━━━━━━━━━━━━━━━━━━━━━━━\u001b[0m \u001b[32m48.9/48.9 kB\u001b[0m \u001b[31m6.3 MB/s\u001b[0m eta \u001b[36m0:00:00\u001b[0m\n",
            "\u001b[?25hCollecting resampy>=0.2.2\n",
            "  Downloading resampy-0.4.2-py3-none-any.whl (3.1 MB)\n",
            "\u001b[2K     \u001b[90m━━━━━━━━━━━━━━━━━━━━━━━━━━━━━━━━━━━━━━━━\u001b[0m \u001b[32m3.1/3.1 MB\u001b[0m \u001b[31m68.8 MB/s\u001b[0m eta \u001b[36m0:00:00\u001b[0m\n",
            "\u001b[?25hCollecting scikit-learn>=0.19.1\n",
            "  Downloading scikit_learn-1.2.2-cp310-cp310-manylinux_2_17_x86_64.manylinux2014_x86_64.whl (9.6 MB)\n",
            "\u001b[2K     \u001b[90m━━━━━━━━━━━━━━━━━━━━━━━━━━━━━━━━━━━━━━━━\u001b[0m \u001b[32m9.6/9.6 MB\u001b[0m \u001b[31m80.1 MB/s\u001b[0m eta \u001b[36m0:00:00\u001b[0m\n",
            "\u001b[?25hRequirement already satisfied: numpy>=1.17.0 in /usr/local/lib/python3.10/site-packages (from librosa==0.9.2) (1.24.3)\n",
            "Collecting llvmlite<0.41,>=0.40.0dev0\n",
            "  Downloading llvmlite-0.40.0-cp310-cp310-manylinux_2_17_x86_64.manylinux2014_x86_64.whl (42.1 MB)\n",
            "\u001b[2K     \u001b[90m━━━━━━━━━━━━━━━━━━━━━━━━━━━━━━━━━━━━━━━━\u001b[0m \u001b[32m42.1/42.1 MB\u001b[0m \u001b[31m11.2 MB/s\u001b[0m eta \u001b[36m0:00:00\u001b[0m\n",
            "\u001b[?25hRequirement already satisfied: requests>=2.19.0 in /usr/local/lib/python3.10/site-packages (from pooch>=1.0->librosa==0.9.2) (2.28.2)\n",
            "Collecting platformdirs>=2.5.0\n",
            "  Downloading platformdirs-3.5.1-py3-none-any.whl (15 kB)\n",
            "Collecting threadpoolctl>=2.0.0\n",
            "  Downloading threadpoolctl-3.1.0-py3-none-any.whl (14 kB)\n",
            "Requirement already satisfied: cffi>=1.0 in /usr/local/lib/python3.10/site-packages (from soundfile>=0.10.2->librosa==0.9.2) (1.15.1)\n",
            "Requirement already satisfied: pycparser in /usr/local/lib/python3.10/site-packages (from cffi>=1.0->soundfile>=0.10.2->librosa==0.9.2) (2.21)\n",
            "Requirement already satisfied: idna<4,>=2.5 in /usr/local/lib/python3.10/site-packages (from requests>=2.19.0->pooch>=1.0->librosa==0.9.2) (3.4)\n",
            "Requirement already satisfied: certifi>=2017.4.17 in /usr/local/lib/python3.10/site-packages (from requests>=2.19.0->pooch>=1.0->librosa==0.9.2) (2022.12.7)\n",
            "Requirement already satisfied: charset-normalizer<4,>=2 in /usr/local/lib/python3.10/site-packages (from requests>=2.19.0->pooch>=1.0->librosa==0.9.2) (3.1.0)\n",
            "Requirement already satisfied: urllib3<1.27,>=1.21.1 in /usr/local/lib/python3.10/site-packages (from requests>=2.19.0->pooch>=1.0->librosa==0.9.2) (1.26.15)\n",
            "Building wheels for collected packages: audioread\n",
            "  Building wheel for audioread (setup.py) ... \u001b[?25l\u001b[?25hdone\n",
            "  Created wheel for audioread: filename=audioread-3.0.0-py3-none-any.whl size=23706 sha256=c061b5d1cec84ec23dce0bf25b721e5cc359a13c4bf0d93b279fd20567d990a5\n",
            "  Stored in directory: /root/.cache/pip/wheels/da/4b/39/c5f6c4ee93b43281dda4dab5ac5f2bdf9d11074d427493cd55\n",
            "Successfully built audioread\n",
            "Installing collected packages: threadpoolctl, scipy, platformdirs, packaging, llvmlite, joblib, decorator, audioread, soundfile, scikit-learn, pooch, numba, resampy, librosa\n",
            "Successfully installed audioread-3.0.0 decorator-5.1.1 joblib-1.2.0 librosa-0.9.2 llvmlite-0.40.0 numba-0.57.0 packaging-23.1 platformdirs-3.5.1 pooch-1.7.0 resampy-0.4.2 scikit-learn-1.2.2 scipy-1.10.1 soundfile-0.12.1 threadpoolctl-3.1.0\n",
            "\u001b[33mWARNING: Running pip as the 'root' user can result in broken permissions and conflicting behaviour with the system package manager. It is recommended to use a virtual environment instead: https://pip.pypa.io/warnings/venv\u001b[0m\u001b[33m\n",
            "\u001b[0m"
          ]
        }
      ]
    },
    {
      "cell_type": "markdown",
      "source": [
        "### YAML helper functions"
      ],
      "metadata": {
        "id": "abIprDRxs3ic"
      }
    },
    {
      "cell_type": "code",
      "source": [
        "import os\n",
        "import yaml\n",
        "\n",
        "\n",
        "# YAML functions\n",
        "def get_yaml_path(name):\n",
        "  return os.path.join(config_dir, name+'.yaml')\n",
        "\n",
        "\n",
        "def get_yaml_contents(name):\n",
        "  with open(get_yaml_path(name), 'r') as f:\n",
        "    return yaml.safe_load(f.read())\n",
        "            \n",
        "\n",
        "def write_yaml(name, contents):\n",
        "  with open(get_yaml_path(name), 'w') as f:\n",
        "    f.write(yaml.dump(contents))"
      ],
      "metadata": {
        "id": "ZGGmESwMcJEL"
      },
      "execution_count": 6,
      "outputs": []
    },
    {
      "cell_type": "markdown",
      "source": [
        "#### Install MFA"
      ],
      "metadata": {
        "id": "pieRp9Uvx6az"
      }
    },
    {
      "cell_type": "code",
      "source": [
        "!conda install -c conda-forge montreal-forced-aligner"
      ],
      "metadata": {
        "id": "KO5ZAgRdyIDT",
        "colab": {
          "base_uri": "https://localhost:8080/"
        },
        "outputId": "2384ce0e-595e-4531-8aa5-685552259822"
      },
      "execution_count": 7,
      "outputs": [
        {
          "output_type": "stream",
          "name": "stdout",
          "text": [
            "/bin/bash: conda: command not found\n"
          ]
        }
      ]
    },
    {
      "cell_type": "markdown",
      "source": [
        "Create MFA user account"
      ],
      "metadata": {
        "id": "OQbVwGsJL7cp"
      }
    },
    {
      "cell_type": "code",
      "source": [
        "# MFA commands must be run as unprivileged user\n",
        "!useradd -m -d /home/mfa_user mfa_user\n",
        "!su - mfa_user -c \"echo hello as mfa_user\"\n",
        "\n",
        "%mkdir /home/mfa_user\n",
        "!chown -hR mfa_user /home/mfa_user\n"
      ],
      "metadata": {
        "colab": {
          "base_uri": "https://localhost:8080/"
        },
        "id": "towszJaAL61o",
        "outputId": "3feb9b2d-d06e-423d-c1ff-f19d7f59010f"
      },
      "execution_count": 8,
      "outputs": [
        {
          "output_type": "stream",
          "name": "stdout",
          "text": [
            "hello as mfa_user\n",
            "mkdir: cannot create directory ‘/home/mfa_user’: File exists\n"
          ]
        }
      ]
    },
    {
      "cell_type": "markdown",
      "source": [
        "Download dependencies"
      ],
      "metadata": {
        "id": "t1mpUQOWMkXh"
      }
    },
    {
      "cell_type": "code",
      "source": [
        "# Excellent MFA tutorial: https://eleanorchodroff.com/mfa_tutorial.html\n",
        "acoustic_model = 'english_us_arpa' #@param\n",
        "dictionary_model = 'english_us_arpa' #@param\n",
        "\n",
        "!su - mfa_user -c \"mfa version\"\n",
        "!su - mfa_user -c \"mfa model download acoustic $acoustic_model\"\n",
        "!su - mfa_user -c \"mfa model download dictionary $dictionary_model\""
      ],
      "metadata": {
        "colab": {
          "base_uri": "https://localhost:8080/"
        },
        "id": "3juI4ATMzXVI",
        "outputId": "146380cb-ef0b-423b-8fc1-7b362c2e7acd"
      },
      "execution_count": 9,
      "outputs": [
        {
          "output_type": "stream",
          "name": "stdout",
          "text": [
            "-sh: 1: mfa: not found\n",
            "-sh: 1: mfa: not found\n",
            "-sh: 1: mfa: not found\n"
          ]
        }
      ]
    },
    {
      "cell_type": "markdown",
      "source": [
        "###Dataset requirements and settings\n",
        "\n",
        "* dataset_path: A directory with the raw audio files + text transcriptions. The text and audio file names should match."
      ],
      "metadata": {
        "id": "av3tMtIPtuyU"
      }
    },
    {
      "cell_type": "code",
      "source": [
        "import os\n",
        "\n",
        "# The input dataset\n",
        "dataset_name = 'MyDataset' #@param {type:'string'}\n",
        "dataset_path = '/gdrive/MyDrive/subset' #@param {type:'string'}\n",
        "speaker_name = 'universal' #@param {type:'string'}\n",
        "\n",
        "# The output folder for processed data\n",
        "output_path = '/content/output_dataset' #@param {type:'string'}\n",
        "output_zip_path = '/gdrive/MyDrive/output_dataset'\n",
        "\n",
        "# MFA settings\n",
        "text_file_extension = '.lab' #@param ['.txt','.lab']\n",
        "corpus_name = 'metadata.csv' #@param {type:'string'}\n",
        "lexicon_path = '/content/FastSpeech2/lexicon/librispeech-lexicon.txt' #@param {type:'string'}\n",
        "allow_overwrite_existing_corpus = True #@param {type:'boolean'}\n",
        "\n",
        "acoustic_model = 'english_us_arpa' #@param {type:'string'}\n",
        "dictionary_file = '/content/FastSpeech2/lexicon/librispeech-lexicon.txt' #@param {type:'string'}\n",
        "\n",
        "# Paths\n",
        "preprocessed_data_path = os.path.join(output_path, 'preprocessed_data')\n",
        "preprocessed_data_speaker_path = os.path.join(output_path, 'preprocessed_data',\n",
        "                                              dataset_name)\n",
        "raw_data_path = os.path.join(output_path, 'raw_data')\n",
        "raw_data_speaker_path = os.path.join(output_path, 'raw_data', speaker_name)\n",
        "corpus_path = raw_data_speaker_path\n",
        "corpus_file_path = os.path.join(corpus_path, corpus_name)\n",
        "mfa_output_path = os.path.join('/home/mfa_user', dataset_name, 'TextGrid')\n",
        "textgrid_dir = os.path.join(preprocessed_data_speaker_path, 'TextGrid', speaker_name)\n",
        "config_dir = f'/content/FastSpeech2/config/{dataset_name}'\n",
        "\n",
        "# Create directory structure\n",
        "%mkdir -p $output_path\n",
        "%mkdir -p $corpus_path\n",
        "%mkdir -p $preprocessed_data_speaker_path\n",
        "%mkdir -p $raw_data_speaker_path\n",
        "%mkdir -p $textgrid_dir\n",
        "%mkdir -p $output_zip_path"
      ],
      "metadata": {
        "id": "yrU71RMluboT"
      },
      "execution_count": 39,
      "outputs": []
    },
    {
      "cell_type": "markdown",
      "source": [
        "Setup MFA user account"
      ],
      "metadata": {
        "id": "RNuVZzqXLxTx"
      }
    },
    {
      "cell_type": "markdown",
      "source": [
        "### Debug utilities\n",
        "Copy files"
      ],
      "metadata": {
        "id": "l7zKQ52ExX_d"
      }
    },
    {
      "cell_type": "code",
      "source": [
        "import shutil\n",
        "import os\n",
        "\n",
        "src = '/gdrive/MyDrive/dataset/raw_data/universal' #@param {type:'string'}\n",
        "dest = '/gdrive/MyDrive/subset/'\n",
        "\n",
        "%mkdir $dest\n",
        "\n",
        "for i in range(0,9):\n",
        "  fname = f'p303_00{i+1}'\n",
        "  wav = os.path.join(src, fname + '.wav')\n",
        "  lab = os.path.join(src, fname + '.lab')\n",
        "  dest_path = os.path.join(dest)\n",
        "  shutil.copy(wav, dest_path)\n",
        "  shutil.copy(lab, dest_path)\n",
        "%ls $dest\n",
        "  \n"
      ],
      "metadata": {
        "colab": {
          "base_uri": "https://localhost:8080/"
        },
        "id": "zsIct9Izt_i_",
        "outputId": "2592f17c-1115-4cbe-94aa-5f6561766fba"
      },
      "execution_count": 10,
      "outputs": [
        {
          "output_type": "stream",
          "name": "stdout",
          "text": [
            "mkdir: cannot create directory ‘/gdrive/MyDrive/subset/’: File exists\n",
            "p303_001.lab  p303_003.lab  p303_005.lab  p303_007.lab  p303_009.lab\n",
            "p303_001.wav  p303_003.wav  p303_005.wav  p303_007.wav  p303_009.wav\n",
            "p303_002.lab  p303_004.lab  p303_006.lab  p303_008.lab\n",
            "p303_002.wav  p303_004.wav  p303_006.wav  p303_008.wav\n"
          ]
        }
      ]
    },
    {
      "cell_type": "markdown",
      "source": [
        "# Preprocess Data"
      ],
      "metadata": {
        "id": "G_gn_upsCfgl"
      }
    },
    {
      "cell_type": "markdown",
      "source": [
        "### Make metadata.csv corpus\n",
        "Saved to output_path/raw_data/speaker_name"
      ],
      "metadata": {
        "id": "WwgRs06k1Z0v"
      }
    },
    {
      "cell_type": "code",
      "source": [
        "import os\n",
        "\n",
        "# Don't overwrite existing file\n",
        "if not allow_overwrite_existing_corpus:\n",
        "  assert(not os.path.exists(corpus_file_path)), 'Corpus file already exists, enable `allow_overwrite_existing_corpus` to disable this behavior.'\n",
        "\n",
        "\n",
        "def concatenate_file_contents(filename):\n",
        "    \"\"\" Reads text file and outputs string with name of file and contents \"\"\"\n",
        "    filename_no_ext = str(os.path.basename(filename)).replace(text_file_extension,'')\n",
        "    with open(filename, 'r') as file:\n",
        "      contents = file.read().strip()\n",
        "      result = f\"{filename_no_ext}|{contents}|{contents}\\r\\n\"\n",
        "      return result\n",
        "\n",
        "\n",
        "def process_files_in_path(text_files_path, output_corpus_file_path):\n",
        "    \"\"\" Open a file at output_corpus_path and write formatted data to it \"\"\"\n",
        "    with open(output_corpus_file_path, 'w') as f:\n",
        "        # Get all .txt files in the specified path\n",
        "        txt_files = [file for file in os.listdir(text_files_path) if file.endswith(text_file_extension)]\n",
        "        txt_files_count = len(txt_files)\n",
        "        if txt_files_count <= 0:\n",
        "          print(f'No text files with extension {text_file_extension} found in {text_files_path}, try changing `text_file_extension` in settings')\n",
        "        # Process each file and concatenate the contents\n",
        "        for file in txt_files:\n",
        "          file_path = os.path.join(text_files_path, file)\n",
        "          output = concatenate_file_contents(file_path)\n",
        "          f.write(output)\n",
        "# Run\n",
        "print(f'Dataset path: {dataset_path}')\n",
        "print(f'Corpus path: {corpus_file_path}')\n",
        "process_files_in_path(dataset_path, corpus_file_path)\n",
        "print('Done')"
      ],
      "metadata": {
        "colab": {
          "base_uri": "https://localhost:8080/"
        },
        "id": "VT9s7mZH1OMa",
        "outputId": "771d5717-cde9-4897-8b95-f5f4e84fa7db"
      },
      "execution_count": 8,
      "outputs": [
        {
          "output_type": "stream",
          "name": "stdout",
          "text": [
            "Dataset path: /gdrive/MyDrive/subset\n",
            "Corpus path: /content/output_dataset/raw_data/universal/metadata.csv\n",
            "Done\n"
          ]
        }
      ]
    },
    {
      "cell_type": "markdown",
      "source": [
        "## Make TextGrids"
      ],
      "metadata": {
        "id": "f_lDZDAzWYDg"
      }
    },
    {
      "cell_type": "markdown",
      "source": [
        "Create new configuration files"
      ],
      "metadata": {
        "id": "dG88YPpkWe2B"
      }
    },
    {
      "cell_type": "code",
      "source": [
        "import os\n",
        "import yaml\n",
        "try:\n",
        "    from yaml import CLoader as Loader, CDumper as Dumper\n",
        "except ImportError:\n",
        "    from yaml import Loader, Dumper\n",
        "\n",
        "copied_config_dir = os.path.join(output_path, 'configs')\n",
        "\n",
        "!mkdir -p $config_dir \n",
        "!mkdir $copied_config_dir\n",
        "!cp -r /content/FastSpeech2/config/LJSpeech/* $config_dir\n",
        "\n",
        "# model.yaml - change speaker name\n",
        "model = get_yaml_contents('model')\n",
        "model['vocoder']['speaker'] = speaker_name\n",
        "write_yaml('model', model)\n",
        "\n",
        "# preprocess.yaml - update paths and add field to text\n",
        "pp = get_yaml_contents('preprocess')\n",
        "pp['dataset'] = dataset_name\n",
        "pp['path']['corpus_path'] = corpus_path\n",
        "pp['path']['lexicon_path'] = lexicon_path\n",
        "pp['path']['raw_path'] = raw_data_path\n",
        "pp['path']['preprocessed_path'] = preprocessed_data_speaker_path\n",
        "pp['preprocessing']['text']['max_length'] = 4096  # Needed for training EfficientSpeech models\n",
        "write_yaml('preprocess', pp)\n",
        "\n",
        "# train.yaml - update paths\n",
        "tr = get_yaml_contents('train')\n",
        "tr['path']['ckpt_path'] = f'./output/ckpt/{dataset_name}'\n",
        "tr['path']['log_path'] = f'./output/log/{dataset_name}'\n",
        "tr['path']['result_path'] = f'./output/result/{dataset_name}'\n",
        "write_yaml('train', tr)\n",
        "\n",
        "print(f'Wrote configs in {config_dir}, copying to {copied_config_dir}')\n",
        "!cp -r $config_dir $copied_config_dir\n",
        "print('Done')"
      ],
      "metadata": {
        "id": "aMx1ij0HWbLv",
        "colab": {
          "base_uri": "https://localhost:8080/"
        },
        "outputId": "aadbaac5-ece7-4674-8915-e570b57f80bb"
      },
      "execution_count": 27,
      "outputs": [
        {
          "output_type": "stream",
          "name": "stdout",
          "text": [
            "mkdir: cannot create directory ‘/content/output_dataset/configs’: File exists\n",
            "Wrote configs in /content/FastSpeech2/config/MyDataset, copying to /content/output_dataset/configs\n",
            "Done\n"
          ]
        }
      ]
    },
    {
      "cell_type": "markdown",
      "source": [
        "## Prepare align\n",
        "The following code is modified from https://github.com/ming024/FastSpeech2/blob/master/preprocessor/ljspeech.py\n"
      ],
      "metadata": {
        "id": "xIxc6NUtfuKX"
      }
    },
    {
      "cell_type": "code",
      "source": [
        "import os\n",
        "import yaml\n",
        "try:\n",
        "    from yaml import CLoader as Loader, CDumper as Dumper\n",
        "except ImportError:\n",
        "    from yaml import Loader, Dumper\n",
        "\n",
        "import librosa\n",
        "import numpy as np\n",
        "from scipy.io import wavfile\n",
        "from tqdm import tqdm\n",
        "\n",
        "# Workaround for importing text\n",
        "import sys\n",
        "sys.path.append('/content/FastSpeech2')\n",
        "from text import _clean_text\n",
        "\n",
        "\n",
        "def prepare_align(config):\n",
        "    sampling_rate = config[\"preprocessing\"][\"audio\"][\"sampling_rate\"]\n",
        "    max_wav_value = config[\"preprocessing\"][\"audio\"][\"max_wav_value\"]\n",
        "    cleaners = config[\"preprocessing\"][\"text\"][\"text_cleaners\"]\n",
        "    speaker = speaker_name\n",
        "    with open(corpus_file_path, encoding=\"utf-8\") as f:\n",
        "        for line in tqdm(f):\n",
        "            parts = line.strip().split(\"|\")\n",
        "            base_name = parts[0]\n",
        "            text = parts[2]\n",
        "            text = _clean_text(text, cleaners)\n",
        "\n",
        "            wav_path = os.path.join(dataset_path, \"{}.wav\".format(base_name))\n",
        "            if os.path.exists(wav_path):\n",
        "                os.makedirs(raw_data_speaker_path, exist_ok=True)\n",
        "                wav, sr = librosa.load(wav_path, sr=sampling_rate)\n",
        "                #wav, _ = librosa.load(wav_path, sampling_rate)\n",
        "                wav = wav / max(abs(wav)) * max_wav_value\n",
        "                wavfile.write(\n",
        "                    os.path.join(raw_data_speaker_path, \"{}.wav\".format(base_name)),\n",
        "                    sampling_rate,\n",
        "                    wav.astype(np.int16),\n",
        "                )\n",
        "                with open(\n",
        "                    os.path.join(raw_data_speaker_path, \"{}.lab\".format(base_name)),\n",
        "                    \"w\",\n",
        "                ) as f1:\n",
        "                    f1.write(text)\n",
        "\n",
        "\n",
        "config = get_yaml_contents('preprocess')\n",
        "prepare_align(config)\n",
        "print('Prepare align done')"
      ],
      "metadata": {
        "colab": {
          "base_uri": "https://localhost:8080/"
        },
        "id": "-PXl_dbkf6xk",
        "outputId": "018d1641-b0b3-4cee-806b-8460a5c8ed2e"
      },
      "execution_count": 10,
      "outputs": [
        {
          "output_type": "stream",
          "name": "stderr",
          "text": [
            "9it [00:08,  1.05it/s]"
          ]
        },
        {
          "output_type": "stream",
          "name": "stdout",
          "text": [
            "Prepare align done\n"
          ]
        },
        {
          "output_type": "stream",
          "name": "stderr",
          "text": [
            "\n"
          ]
        }
      ]
    },
    {
      "cell_type": "markdown",
      "source": [
        "### Run Forced alignment\n"
      ],
      "metadata": {
        "id": "kHqaO0dcCofH"
      }
    },
    {
      "cell_type": "markdown",
      "source": [],
      "metadata": {
        "id": "1RxsTDzkEC__"
      }
    },
    {
      "cell_type": "code",
      "source": [
        "# Output TextGrid files go here\n",
        "!su - mfa_user -c \"mkdir -p $mfa_output_path\"\n",
        "%mkdir -p $textgrid_dir\n",
        "\n",
        "# Allow mfa_user access to output directory \n",
        "!chown mfa_user $textgrid_dir\n",
        "\n",
        "# Command line options\n",
        "# -m fast: immediate disconnect (doesn't work sadface)\n",
        "# --clean: cleans output dir for subsequent runs (if off, \n",
        "#             does not overwrite old data)\n",
        "# --single_speaker: multiprocessing for only one speaker\n",
        "mfa_cmd_opts = f'--clean --single_speaker'\n",
        "align_cmd_opts = f'{corpus_path} {dictionary_file} {acoustic_model} {mfa_output_path}'\n",
        "\n",
        "# Command must be run as unprivileged user\n",
        "!echo Running mfa align with arguments: $mfa_cmd_opts $align_cmd_opts\n",
        "!su - mfa_user -c \"mfa align $mfa_cmd_opts $align_cmd_opts\"\n",
        "\n",
        "# If the cell hangs you can terminate it early after it says \"Exporting alignment TextGrids to...\"\n",
        "#!echo Copying TextGrid files to $textgrid_dir\n",
        "#!cp $mfa_output_path/*.* $textgrid_dir "
      ],
      "metadata": {
        "colab": {
          "base_uri": "https://localhost:8080/",
          "height": 1000
        },
        "id": "HrR33GuhDArV",
        "outputId": "e72fab54-0627-4dd8-cdec-44321536e09d"
      },
      "execution_count": 11,
      "outputs": [
        {
          "output_type": "stream",
          "name": "stdout",
          "text": [
            "Running mfa align with arguments: --clean --single_speaker /content/output_dataset/raw_data/universal /content/FastSpeech2/lexicon/librispeech-lexicon.txt english_us_arpa /home/mfa_user/MyDataset/TextGrid\n",
            "The global MFA database server does not exist, initializing it first.\n",
            "waiting for server to start.... done\n",
            "server started\n",
            "\u001b[2;36m \u001b[0m\u001b[32mINFO    \u001b[0m Setting up corpus information\u001b[33m...\u001b[0m                                      \n",
            "\u001b[2;36m \u001b[0m\u001b[32mINFO    \u001b[0m Loading corpus from source files\u001b[33m...\u001b[0m                                   \n",
            "\u001b[2K\u001b[35m   0%\u001b[0m \u001b[90m━━━━━━━━━━━━━━━━━━━━━━━━━━━━━━━━━━━━\u001b[0m \u001b[32m0/100 \u001b[0m [ \u001b[33m0:00:01\u001b[0m < \u001b[36m-:--:--\u001b[0m , \u001b[31m? it/s\u001b[0m ]\n",
            "\u001b[?25h\u001b[2;36m \u001b[0m\u001b[32mINFO    \u001b[0m Found \u001b[1;36m1\u001b[0m speaker across \u001b[1;36m9\u001b[0m files, average number of utterances per      \n",
            "\u001b[2;36m \u001b[0m         speaker: \u001b[1;36m9.0\u001b[0m                                                          \n",
            "\u001b[2;36m \u001b[0m\u001b[32mINFO    \u001b[0m Initializing multiprocessing jobs\u001b[33m...\u001b[0m                                  \n",
            "\u001b[2;36m \u001b[0m\u001b[32mINFO    \u001b[0m Normalizing text\u001b[33m...\u001b[0m                                                   \n",
            "\u001b[2K\u001b[35m  44%\u001b[0m \u001b[91m━━━━━━━━━━━━━━━━\u001b[0m\u001b[90m╺\u001b[0m\u001b[90m━━━━━━━━━━━━━━━━━━━━\u001b[0m \u001b[32m4/9 \u001b[0m [ \u001b[33m0:00:24\u001b[0m < \u001b[36m0:00:01\u001b[0m , \u001b[31m17 it/s\u001b[0m ]\n",
            "\u001b[?25h\u001b[2;36m \u001b[0m\u001b[32mINFO    \u001b[0m Creating corpus split for feature generation\u001b[33m...\u001b[0m                       \n",
            "\u001b[2K\u001b[35m   6%\u001b[0m \u001b[91m━━\u001b[0m\u001b[90m╺\u001b[0m\u001b[90m━━━━━━━━━━━━━━━━━━━━━━━━━━━━━━━━━━\u001b[0m \u001b[32m1/18 \u001b[0m [ \u001b[33m0:00:01\u001b[0m < \u001b[36m-:--:--\u001b[0m , \u001b[31m? it/s\u001b[0m ]\n",
            "\u001b[?25h\u001b[2;36m \u001b[0m\u001b[32mINFO    \u001b[0m Generating MFCCs\u001b[33m...\u001b[0m                                                   \n",
            "\u001b[2K\u001b[35m 100%\u001b[0m \u001b[90m━━━━━━━━━━━━━━━━━━━━━━━━━━━━━━━━━━━━━\u001b[0m \u001b[32m9/9 \u001b[0m [ \u001b[33m0:00:16\u001b[0m < \u001b[36m0:00:00\u001b[0m , \u001b[31m32 it/s\u001b[0m ]\n",
            "\u001b[?25h\u001b[2;36m \u001b[0m\u001b[32mINFO    \u001b[0m Calculating CMVN\u001b[33m...\u001b[0m                                                   \n",
            "\u001b[2;36m \u001b[0m\u001b[32mINFO    \u001b[0m Generating final features\u001b[33m...\u001b[0m                                          \n",
            "\u001b[2K\u001b[35m  67%\u001b[0m \u001b[91m━━━━━━━━━━━━━━━━━━━━━━━━━\u001b[0m\u001b[90m╺\u001b[0m\u001b[90m━━━━━━━━━━━━\u001b[0m \u001b[32m6/9 \u001b[0m [ \u001b[33m0:00:01\u001b[0m < \u001b[36m-:--:--\u001b[0m , \u001b[31m? it/s\u001b[0m ]\n",
            "\u001b[?25h\u001b[2;36m \u001b[0m\u001b[32mINFO    \u001b[0m Creating corpus split with features\u001b[33m...\u001b[0m                                \n",
            "\u001b[2K\u001b[35m  11%\u001b[0m \u001b[91m━━━━\u001b[0m\u001b[90m╺\u001b[0m\u001b[90m━━━━━━━━━━━━━━━━━━━━━━━━━━━━━━━━━\u001b[0m \u001b[32m1/9 \u001b[0m [ \u001b[33m0:00:01\u001b[0m < \u001b[36m-:--:--\u001b[0m , \u001b[31m? it/s\u001b[0m ]\n",
            "\u001b[?25h\u001b[2;36m \u001b[0m\u001b[32mINFO    \u001b[0m Compiling training graphs\u001b[33m...\u001b[0m                                          \n",
            "\u001b[2K\u001b[35m  33%\u001b[0m \u001b[91m━━━━━━━━━━━━\u001b[0m\u001b[91m╸\u001b[0m\u001b[90m━━━━━━━━━━━━━━━━━━━━━━━━━\u001b[0m \u001b[32m3/9 \u001b[0m [ \u001b[33m0:00:01\u001b[0m < \u001b[36m-:--:--\u001b[0m , \u001b[31m? it/s\u001b[0m ]\n",
            "\u001b[?25h\u001b[2;36m \u001b[0m\u001b[32mINFO    \u001b[0m Performing first-pass alignment\u001b[33m...\u001b[0m                                    \n",
            "\u001b[2;36m \u001b[0m\u001b[32mINFO    \u001b[0m Generating alignments\u001b[33m...\u001b[0m                                              \n",
            "\u001b[2K\u001b[35m  89%\u001b[0m \u001b[91m━━━━━━━━━━━━━━━━━━━━━━━━━━━━━━━━\u001b[0m\u001b[91m╸\u001b[0m\u001b[90m━━━━\u001b[0m \u001b[32m8/9 \u001b[0m [ \u001b[33m0:00:02\u001b[0m < \u001b[36m0:00:01\u001b[0m , \u001b[31m33 it/s\u001b[0m ]\n",
            "\u001b[?25h\u001b[2;36m \u001b[0m\u001b[32mINFO    \u001b[0m Calculating fMLLR for speaker adaptation\u001b[33m...\u001b[0m                           \n",
            "\u001b[2K\u001b[35m 100%\u001b[0m \u001b[90m━━━━━━━━━━━━━━━━━━━━━━━━━━━━━━━━━━━━━━\u001b[0m \u001b[32m1/1 \u001b[0m [ \u001b[33m0:00:01\u001b[0m < \u001b[36m0:00:00\u001b[0m , \u001b[31m? it/s\u001b[0m ]\n",
            "\u001b[?25h\u001b[2;36m \u001b[0m\u001b[32mINFO    \u001b[0m Performing second-pass alignment\u001b[33m...\u001b[0m                                   \n",
            "\u001b[2;36m \u001b[0m\u001b[32mINFO    \u001b[0m Generating alignments\u001b[33m...\u001b[0m                                              \n",
            "\u001b[2K\u001b[35m  67%\u001b[0m \u001b[91m━━━━━━━━━━━━━━━━━━━━━━━━\u001b[0m\u001b[91m╸\u001b[0m\u001b[90m━━━━━━━━━━━━\u001b[0m \u001b[32m6/9 \u001b[0m [ \u001b[33m0:00:02\u001b[0m < \u001b[36m0:00:01\u001b[0m , \u001b[31m24 it/s\u001b[0m ]\n",
            "\u001b[?25h\u001b[2;36m \u001b[0m\u001b[32mINFO    \u001b[0m Collecting phone and word alignments from alignment lattices\u001b[33m...\u001b[0m       \n",
            "\u001b[2K\u001b[35m  78%\u001b[0m \u001b[91m━━━━━━━━━━━━━━━━━━━━━━━━━━━━\u001b[0m\u001b[91m╸\u001b[0m\u001b[90m━━━━━━━━\u001b[0m \u001b[32m7/9 \u001b[0m [ \u001b[33m0:00:08\u001b[0m < \u001b[36m0:00:01\u001b[0m , \u001b[31m19 it/s\u001b[0m ]\n",
            "\u001b[?25h\u001b[2;36m \u001b[0m\u001b[32mINFO    \u001b[0m Analyzing alignment quality\u001b[33m...\u001b[0m                                        \n",
            "\u001b[2K\u001b[35m  44%\u001b[0m \u001b[91m━━━━━━━━━━━━━━━━\u001b[0m\u001b[91m╸\u001b[0m\u001b[90m━━━━━━━━━━━━━━━━━━━━━\u001b[0m \u001b[32m4/9 \u001b[0m [ \u001b[33m0:00:01\u001b[0m < \u001b[36m-:--:--\u001b[0m , \u001b[31m? it/s\u001b[0m ]\n",
            "\u001b[?25h\u001b[2;36m \u001b[0m\u001b[32mINFO    \u001b[0m Exporting alignment TextGrids to \u001b[35m/home/mfa_user/MyDataset/\u001b[0m\u001b[95mTextGrid...\u001b[0m \n",
            "\u001b[2K\u001b[35m  11%\u001b[0m \u001b[91m━━━━\u001b[0m\u001b[90m╺\u001b[0m\u001b[90m━━━━━━━━━━━━━━━━━━━━━━━━━━━━━━━━━\u001b[0m \u001b[32m1/9 \u001b[0m [ \u001b[33m0:00:19\u001b[0m < \u001b[36m-:--:--\u001b[0m , \u001b[31m? it/s\u001b[0m ]\n",
            "Session terminated, killing shell... ...killed.\n"
          ]
        },
        {
          "output_type": "error",
          "ename": "KeyboardInterrupt",
          "evalue": "ignored",
          "traceback": [
            "\u001b[0;31m---------------------------------------------------------------------------\u001b[0m",
            "\u001b[0;31mKeyboardInterrupt\u001b[0m                         Traceback (most recent call last)",
            "\u001b[0;32m<ipython-input-11-1c17c2d0866f>\u001b[0m in \u001b[0;36m<cell line: 18>\u001b[0;34m()\u001b[0m\n\u001b[1;32m     16\u001b[0m \u001b[0;31m# Command must be run as unprivileged user\u001b[0m\u001b[0;34m\u001b[0m\u001b[0;34m\u001b[0m\u001b[0m\n\u001b[1;32m     17\u001b[0m \u001b[0mget_ipython\u001b[0m\u001b[0;34m(\u001b[0m\u001b[0;34m)\u001b[0m\u001b[0;34m.\u001b[0m\u001b[0msystem\u001b[0m\u001b[0;34m(\u001b[0m\u001b[0;34m'echo Running mfa align with arguments: $mfa_cmd_opts $align_cmd_opts'\u001b[0m\u001b[0;34m)\u001b[0m\u001b[0;34m\u001b[0m\u001b[0;34m\u001b[0m\u001b[0m\n\u001b[0;32m---> 18\u001b[0;31m \u001b[0mget_ipython\u001b[0m\u001b[0;34m(\u001b[0m\u001b[0;34m)\u001b[0m\u001b[0;34m.\u001b[0m\u001b[0msystem\u001b[0m\u001b[0;34m(\u001b[0m\u001b[0;34m'su - mfa_user -c \"mfa align $mfa_cmd_opts $align_cmd_opts\"'\u001b[0m\u001b[0;34m)\u001b[0m\u001b[0;34m\u001b[0m\u001b[0;34m\u001b[0m\u001b[0m\n\u001b[0m\u001b[1;32m     19\u001b[0m \u001b[0;34m\u001b[0m\u001b[0m\n\u001b[1;32m     20\u001b[0m \u001b[0mget_ipython\u001b[0m\u001b[0;34m(\u001b[0m\u001b[0;34m)\u001b[0m\u001b[0;34m.\u001b[0m\u001b[0msystem\u001b[0m\u001b[0;34m(\u001b[0m\u001b[0;34m'echo Copying TextGrid files to $textgrid_dir'\u001b[0m\u001b[0;34m)\u001b[0m\u001b[0;34m\u001b[0m\u001b[0;34m\u001b[0m\u001b[0m\n",
            "\u001b[0;32m/usr/local/lib/python3.10/dist-packages/google/colab/_shell.py\u001b[0m in \u001b[0;36msystem\u001b[0;34m(self, *args, **kwargs)\u001b[0m\n\u001b[1;32m     97\u001b[0m       \u001b[0mkwargs\u001b[0m\u001b[0;34m.\u001b[0m\u001b[0mupdate\u001b[0m\u001b[0;34m(\u001b[0m\u001b[0;34m{\u001b[0m\u001b[0;34m'also_return_output'\u001b[0m\u001b[0;34m:\u001b[0m \u001b[0;32mTrue\u001b[0m\u001b[0;34m}\u001b[0m\u001b[0;34m)\u001b[0m\u001b[0;34m\u001b[0m\u001b[0;34m\u001b[0m\u001b[0m\n\u001b[1;32m     98\u001b[0m \u001b[0;34m\u001b[0m\u001b[0m\n\u001b[0;32m---> 99\u001b[0;31m     \u001b[0moutput\u001b[0m \u001b[0;34m=\u001b[0m \u001b[0m_system_commands\u001b[0m\u001b[0;34m.\u001b[0m\u001b[0m_system_compat\u001b[0m\u001b[0;34m(\u001b[0m\u001b[0mself\u001b[0m\u001b[0;34m,\u001b[0m \u001b[0;34m*\u001b[0m\u001b[0margs\u001b[0m\u001b[0;34m,\u001b[0m \u001b[0;34m**\u001b[0m\u001b[0mkwargs\u001b[0m\u001b[0;34m)\u001b[0m  \u001b[0;31m# pylint:disable=protected-access\u001b[0m\u001b[0;34m\u001b[0m\u001b[0;34m\u001b[0m\u001b[0m\n\u001b[0m\u001b[1;32m    100\u001b[0m \u001b[0;34m\u001b[0m\u001b[0m\n\u001b[1;32m    101\u001b[0m     \u001b[0;32mif\u001b[0m \u001b[0mpip_warn\u001b[0m\u001b[0;34m:\u001b[0m\u001b[0;34m\u001b[0m\u001b[0;34m\u001b[0m\u001b[0m\n",
            "\u001b[0;32m/usr/local/lib/python3.10/dist-packages/google/colab/_system_commands.py\u001b[0m in \u001b[0;36m_system_compat\u001b[0;34m(shell, cmd, also_return_output)\u001b[0m\n\u001b[1;32m    451\u001b[0m   \u001b[0;31m# is expected to call this function, thus adding one level of nesting to the\u001b[0m\u001b[0;34m\u001b[0m\u001b[0;34m\u001b[0m\u001b[0m\n\u001b[1;32m    452\u001b[0m   \u001b[0;31m# stack.\u001b[0m\u001b[0;34m\u001b[0m\u001b[0;34m\u001b[0m\u001b[0m\n\u001b[0;32m--> 453\u001b[0;31m   result = _run_command(\n\u001b[0m\u001b[1;32m    454\u001b[0m       \u001b[0mshell\u001b[0m\u001b[0;34m.\u001b[0m\u001b[0mvar_expand\u001b[0m\u001b[0;34m(\u001b[0m\u001b[0mcmd\u001b[0m\u001b[0;34m,\u001b[0m \u001b[0mdepth\u001b[0m\u001b[0;34m=\u001b[0m\u001b[0;36m2\u001b[0m\u001b[0;34m)\u001b[0m\u001b[0;34m,\u001b[0m \u001b[0mclear_streamed_output\u001b[0m\u001b[0;34m=\u001b[0m\u001b[0;32mFalse\u001b[0m\u001b[0;34m\u001b[0m\u001b[0;34m\u001b[0m\u001b[0m\n\u001b[1;32m    455\u001b[0m   )\n",
            "\u001b[0;32m/usr/local/lib/python3.10/dist-packages/google/colab/_system_commands.py\u001b[0m in \u001b[0;36m_run_command\u001b[0;34m(cmd, clear_streamed_output)\u001b[0m\n\u001b[1;32m    201\u001b[0m       \u001b[0mos\u001b[0m\u001b[0;34m.\u001b[0m\u001b[0mclose\u001b[0m\u001b[0;34m(\u001b[0m\u001b[0mchild_pty\u001b[0m\u001b[0;34m)\u001b[0m\u001b[0;34m\u001b[0m\u001b[0;34m\u001b[0m\u001b[0m\n\u001b[1;32m    202\u001b[0m \u001b[0;34m\u001b[0m\u001b[0m\n\u001b[0;32m--> 203\u001b[0;31m       \u001b[0;32mreturn\u001b[0m \u001b[0m_monitor_process\u001b[0m\u001b[0;34m(\u001b[0m\u001b[0mparent_pty\u001b[0m\u001b[0;34m,\u001b[0m \u001b[0mepoll\u001b[0m\u001b[0;34m,\u001b[0m \u001b[0mp\u001b[0m\u001b[0;34m,\u001b[0m \u001b[0mcmd\u001b[0m\u001b[0;34m,\u001b[0m \u001b[0mupdate_stdin_widget\u001b[0m\u001b[0;34m)\u001b[0m\u001b[0;34m\u001b[0m\u001b[0;34m\u001b[0m\u001b[0m\n\u001b[0m\u001b[1;32m    204\u001b[0m   \u001b[0;32mfinally\u001b[0m\u001b[0;34m:\u001b[0m\u001b[0;34m\u001b[0m\u001b[0;34m\u001b[0m\u001b[0m\n\u001b[1;32m    205\u001b[0m     \u001b[0mepoll\u001b[0m\u001b[0;34m.\u001b[0m\u001b[0mclose\u001b[0m\u001b[0;34m(\u001b[0m\u001b[0;34m)\u001b[0m\u001b[0;34m\u001b[0m\u001b[0;34m\u001b[0m\u001b[0m\n",
            "\u001b[0;32m/usr/local/lib/python3.10/dist-packages/google/colab/_system_commands.py\u001b[0m in \u001b[0;36m_monitor_process\u001b[0;34m(parent_pty, epoll, p, cmd, update_stdin_widget)\u001b[0m\n\u001b[1;32m    231\u001b[0m   \u001b[0;32mwhile\u001b[0m \u001b[0;32mTrue\u001b[0m\u001b[0;34m:\u001b[0m\u001b[0;34m\u001b[0m\u001b[0;34m\u001b[0m\u001b[0m\n\u001b[1;32m    232\u001b[0m     \u001b[0;32mtry\u001b[0m\u001b[0;34m:\u001b[0m\u001b[0;34m\u001b[0m\u001b[0;34m\u001b[0m\u001b[0m\n\u001b[0;32m--> 233\u001b[0;31m       \u001b[0mresult\u001b[0m \u001b[0;34m=\u001b[0m \u001b[0m_poll_process\u001b[0m\u001b[0;34m(\u001b[0m\u001b[0mparent_pty\u001b[0m\u001b[0;34m,\u001b[0m \u001b[0mepoll\u001b[0m\u001b[0;34m,\u001b[0m \u001b[0mp\u001b[0m\u001b[0;34m,\u001b[0m \u001b[0mcmd\u001b[0m\u001b[0;34m,\u001b[0m \u001b[0mdecoder\u001b[0m\u001b[0;34m,\u001b[0m \u001b[0mstate\u001b[0m\u001b[0;34m)\u001b[0m\u001b[0;34m\u001b[0m\u001b[0;34m\u001b[0m\u001b[0m\n\u001b[0m\u001b[1;32m    234\u001b[0m       \u001b[0;32mif\u001b[0m \u001b[0mresult\u001b[0m \u001b[0;32mis\u001b[0m \u001b[0;32mnot\u001b[0m \u001b[0;32mNone\u001b[0m\u001b[0;34m:\u001b[0m\u001b[0;34m\u001b[0m\u001b[0;34m\u001b[0m\u001b[0m\n\u001b[1;32m    235\u001b[0m         \u001b[0;32mreturn\u001b[0m \u001b[0mresult\u001b[0m\u001b[0;34m\u001b[0m\u001b[0;34m\u001b[0m\u001b[0m\n",
            "\u001b[0;32m/usr/local/lib/python3.10/dist-packages/google/colab/_system_commands.py\u001b[0m in \u001b[0;36m_poll_process\u001b[0;34m(parent_pty, epoll, p, cmd, decoder, state)\u001b[0m\n\u001b[1;32m    279\u001b[0m   \u001b[0moutput_available\u001b[0m \u001b[0;34m=\u001b[0m \u001b[0;32mFalse\u001b[0m\u001b[0;34m\u001b[0m\u001b[0;34m\u001b[0m\u001b[0m\n\u001b[1;32m    280\u001b[0m \u001b[0;34m\u001b[0m\u001b[0m\n\u001b[0;32m--> 281\u001b[0;31m   \u001b[0mevents\u001b[0m \u001b[0;34m=\u001b[0m \u001b[0mepoll\u001b[0m\u001b[0;34m.\u001b[0m\u001b[0mpoll\u001b[0m\u001b[0;34m(\u001b[0m\u001b[0;34m)\u001b[0m\u001b[0;34m\u001b[0m\u001b[0;34m\u001b[0m\u001b[0m\n\u001b[0m\u001b[1;32m    282\u001b[0m   \u001b[0minput_events\u001b[0m \u001b[0;34m=\u001b[0m \u001b[0;34m[\u001b[0m\u001b[0;34m]\u001b[0m\u001b[0;34m\u001b[0m\u001b[0;34m\u001b[0m\u001b[0m\n\u001b[1;32m    283\u001b[0m   \u001b[0;32mfor\u001b[0m \u001b[0m_\u001b[0m\u001b[0;34m,\u001b[0m \u001b[0mevent\u001b[0m \u001b[0;32min\u001b[0m \u001b[0mevents\u001b[0m\u001b[0;34m:\u001b[0m\u001b[0;34m\u001b[0m\u001b[0;34m\u001b[0m\u001b[0m\n",
            "\u001b[0;31mKeyboardInterrupt\u001b[0m: "
          ]
        }
      ]
    },
    {
      "cell_type": "markdown",
      "source": [
        "Copy output of above to dir"
      ],
      "metadata": {
        "id": "3c3tzL3bV78T"
      }
    },
    {
      "cell_type": "code",
      "source": [
        "!echo Copying TextGrid files to $textgrid_dir\n",
        "!cp $mfa_output_path/*.* $textgrid_dir "
      ],
      "metadata": {
        "colab": {
          "base_uri": "https://localhost:8080/"
        },
        "id": "b36FmXzEV6Yu",
        "outputId": "3afff4a8-352e-4538-8e94-d8c3d00251c9"
      },
      "execution_count": 12,
      "outputs": [
        {
          "output_type": "stream",
          "name": "stdout",
          "text": [
            "Copying TextGrid files to /content/output_dataset/preprocessed_data/MyDataset/TextGrid/universal\n"
          ]
        }
      ]
    },
    {
      "cell_type": "markdown",
      "source": [
        "## Preprocess textgrids"
      ],
      "metadata": {
        "id": "sWT4zYzl47Vr"
      }
    },
    {
      "cell_type": "code",
      "source": [
        "#!pip install pyyaml==6.0 unidecode==1.3.6 tgt==1.4.4 pyworld==0.2.10\n",
        "#!pip install numba==0.53\n",
        "#!pip install --force-reinstall numpy==1.24.3 librosa==0.9.2\n",
        "#!pip install --force-reinstall numpy==1.24.3\n",
        "!pip install pyyaml==6.0 librosa==0.9.2"
      ],
      "metadata": {
        "colab": {
          "base_uri": "https://localhost:8080/"
        },
        "id": "1wkz5jVeWwyA",
        "outputId": "24740e4d-0d0b-4610-b96a-b829a235a15b"
      },
      "execution_count": 5,
      "outputs": [
        {
          "output_type": "stream",
          "name": "stdout",
          "text": [
            "Looking in indexes: https://pypi.org/simple, https://us-python.pkg.dev/colab-wheels/public/simple/\n",
            "Requirement already satisfied: pyyaml==6.0 in /usr/local/lib/python3.10/dist-packages (6.0)\n",
            "Requirement already satisfied: librosa==0.9.2 in /usr/local/lib/python3.10/dist-packages (0.9.2)\n",
            "Requirement already satisfied: audioread>=2.1.9 in /usr/local/lib/python3.10/dist-packages (from librosa==0.9.2) (3.0.0)\n",
            "Requirement already satisfied: numpy>=1.17.0 in /usr/local/lib/python3.10/dist-packages (from librosa==0.9.2) (1.22.4)\n",
            "Requirement already satisfied: scipy>=1.2.0 in /usr/local/lib/python3.10/dist-packages (from librosa==0.9.2) (1.10.1)\n",
            "Requirement already satisfied: scikit-learn>=0.19.1 in /usr/local/lib/python3.10/dist-packages (from librosa==0.9.2) (1.2.2)\n",
            "Requirement already satisfied: joblib>=0.14 in /usr/local/lib/python3.10/dist-packages (from librosa==0.9.2) (1.2.0)\n",
            "Requirement already satisfied: decorator>=4.0.10 in /usr/local/lib/python3.10/dist-packages (from librosa==0.9.2) (4.4.2)\n",
            "Requirement already satisfied: resampy>=0.2.2 in /usr/local/lib/python3.10/dist-packages (from librosa==0.9.2) (0.4.2)\n",
            "Requirement already satisfied: numba>=0.45.1 in /usr/local/lib/python3.10/dist-packages (from librosa==0.9.2) (0.56.4)\n",
            "Requirement already satisfied: soundfile>=0.10.2 in /usr/local/lib/python3.10/dist-packages (from librosa==0.9.2) (0.12.1)\n",
            "Requirement already satisfied: pooch>=1.0 in /usr/local/lib/python3.10/dist-packages (from librosa==0.9.2) (1.6.0)\n",
            "Requirement already satisfied: packaging>=20.0 in /usr/local/lib/python3.10/dist-packages (from librosa==0.9.2) (23.1)\n",
            "Requirement already satisfied: llvmlite<0.40,>=0.39.0dev0 in /usr/local/lib/python3.10/dist-packages (from numba>=0.45.1->librosa==0.9.2) (0.39.1)\n",
            "Requirement already satisfied: setuptools in /usr/local/lib/python3.10/dist-packages (from numba>=0.45.1->librosa==0.9.2) (67.7.2)\n",
            "Requirement already satisfied: appdirs>=1.3.0 in /usr/local/lib/python3.10/dist-packages (from pooch>=1.0->librosa==0.9.2) (1.4.4)\n",
            "Requirement already satisfied: requests>=2.19.0 in /usr/local/lib/python3.10/dist-packages (from pooch>=1.0->librosa==0.9.2) (2.27.1)\n",
            "Requirement already satisfied: threadpoolctl>=2.0.0 in /usr/local/lib/python3.10/dist-packages (from scikit-learn>=0.19.1->librosa==0.9.2) (3.1.0)\n",
            "Requirement already satisfied: cffi>=1.0 in /usr/local/lib/python3.10/dist-packages (from soundfile>=0.10.2->librosa==0.9.2) (1.15.1)\n",
            "Requirement already satisfied: pycparser in /usr/local/lib/python3.10/dist-packages (from cffi>=1.0->soundfile>=0.10.2->librosa==0.9.2) (2.21)\n",
            "Requirement already satisfied: urllib3<1.27,>=1.21.1 in /usr/local/lib/python3.10/dist-packages (from requests>=2.19.0->pooch>=1.0->librosa==0.9.2) (1.26.15)\n",
            "Requirement already satisfied: certifi>=2017.4.17 in /usr/local/lib/python3.10/dist-packages (from requests>=2.19.0->pooch>=1.0->librosa==0.9.2) (2022.12.7)\n",
            "Requirement already satisfied: charset-normalizer~=2.0.0 in /usr/local/lib/python3.10/dist-packages (from requests>=2.19.0->pooch>=1.0->librosa==0.9.2) (2.0.12)\n",
            "Requirement already satisfied: idna<4,>=2.5 in /usr/local/lib/python3.10/dist-packages (from requests>=2.19.0->pooch>=1.0->librosa==0.9.2) (3.4)\n"
          ]
        }
      ]
    },
    {
      "cell_type": "code",
      "source": [
        "!pip list\n",
        "# If you run into errors, install older numpy\n",
        "import sys\n",
        "sys.path.append('/content/FastSpeech2')\n",
        "from preprocessor.preprocessor import Preprocessor\n",
        "\n",
        "config = get_yaml_contents('preprocess')\n",
        "preprocessor = Preprocessor(config)\n",
        "preprocessor.build_from_path()"
      ],
      "metadata": {
        "colab": {
          "base_uri": "https://localhost:8080/"
        },
        "id": "eEjO6Np05TFh",
        "outputId": "d132b04c-466e-4f14-97e7-8e42d1b4ef60"
      },
      "execution_count": 11,
      "outputs": [
        {
          "output_type": "stream",
          "name": "stdout",
          "text": [
            "Package                       Version\n",
            "----------------------------- --------------------\n",
            "absl-py                       1.4.0\n",
            "alabaster                     0.7.13\n",
            "albumentations                1.2.1\n",
            "altair                        4.2.2\n",
            "anyio                         3.6.2\n",
            "appdirs                       1.4.4\n",
            "argon2-cffi                   21.3.0\n",
            "argon2-cffi-bindings          21.2.0\n",
            "array-record                  0.2.0\n",
            "arviz                         0.15.1\n",
            "astropy                       5.2.2\n",
            "astunparse                    1.6.3\n",
            "attrs                         23.1.0\n",
            "audioread                     3.0.0\n",
            "autograd                      1.5\n",
            "Babel                         2.12.1\n",
            "backcall                      0.2.0\n",
            "beautifulsoup4                4.11.2\n",
            "bleach                        6.0.0\n",
            "blis                          0.7.9\n",
            "blosc2                        2.0.0\n",
            "bokeh                         2.4.3\n",
            "branca                        0.6.0\n",
            "build                         0.10.0\n",
            "CacheControl                  0.12.11\n",
            "cached-property               1.5.2\n",
            "cachetools                    5.3.0\n",
            "catalogue                     2.0.8\n",
            "certifi                       2022.12.7\n",
            "cffi                          1.15.1\n",
            "chardet                       4.0.0\n",
            "charset-normalizer            2.0.12\n",
            "chex                          0.1.7\n",
            "click                         8.1.3\n",
            "cloudpickle                   2.2.1\n",
            "cmake                         3.25.2\n",
            "cmdstanpy                     1.1.0\n",
            "colorcet                      3.0.1\n",
            "colorlover                    0.3.0\n",
            "community                     1.0.0b1\n",
            "confection                    0.0.4\n",
            "cons                          0.4.5\n",
            "contextlib2                   0.6.0.post1\n",
            "contourpy                     1.0.7\n",
            "convertdate                   2.4.0\n",
            "cryptography                  40.0.2\n",
            "cufflinks                     0.17.3\n",
            "cupy-cuda11x                  11.0.0\n",
            "cvxopt                        1.3.0\n",
            "cvxpy                         1.3.1\n",
            "cycler                        0.11.0\n",
            "cymem                         2.0.7\n",
            "Cython                        0.29.34\n",
            "dask                          2022.12.1\n",
            "datascience                   0.17.6\n",
            "db-dtypes                     1.1.1\n",
            "dbus-python                   1.2.16\n",
            "debugpy                       1.6.6\n",
            "decorator                     4.4.2\n",
            "defusedxml                    0.7.1\n",
            "distributed                   2022.12.1\n",
            "dlib                          19.24.1\n",
            "dm-tree                       0.1.8\n",
            "docutils                      0.16\n",
            "dopamine-rl                   4.0.6\n",
            "duckdb                        0.7.1\n",
            "earthengine-api               0.1.350\n",
            "easydict                      1.10\n",
            "ecos                          2.0.12\n",
            "editdistance                  0.6.2\n",
            "en-core-web-sm                3.5.0\n",
            "entrypoints                   0.4\n",
            "ephem                         4.1.4\n",
            "et-xmlfile                    1.1.0\n",
            "etils                         1.2.0\n",
            "etuples                       0.3.8\n",
            "exceptiongroup                1.1.1\n",
            "fastai                        2.7.12\n",
            "fastcore                      1.5.29\n",
            "fastdownload                  0.0.7\n",
            "fastjsonschema                2.16.3\n",
            "fastprogress                  1.0.3\n",
            "fastrlock                     0.8.1\n",
            "filelock                      3.12.0\n",
            "firebase-admin                5.3.0\n",
            "Flask                         2.2.4\n",
            "flatbuffers                   23.3.3\n",
            "flax                          0.6.9\n",
            "folium                        0.14.0\n",
            "fonttools                     4.39.3\n",
            "frozendict                    2.3.7\n",
            "fsspec                        2023.4.0\n",
            "future                        0.18.3\n",
            "gast                          0.4.0\n",
            "GDAL                          3.3.2\n",
            "gdown                         4.6.6\n",
            "gensim                        4.3.1\n",
            "geographiclib                 2.0\n",
            "geopy                         2.3.0\n",
            "gin-config                    0.5.0\n",
            "glob2                         0.7\n",
            "google                        2.0.3\n",
            "google-api-core               2.11.0\n",
            "google-api-python-client      2.84.0\n",
            "google-auth                   2.17.3\n",
            "google-auth-httplib2          0.1.0\n",
            "google-auth-oauthlib          1.0.0\n",
            "google-cloud-bigquery         3.9.0\n",
            "google-cloud-bigquery-storage 2.19.1\n",
            "google-cloud-core             2.3.2\n",
            "google-cloud-datastore        2.15.1\n",
            "google-cloud-firestore        2.11.0\n",
            "google-cloud-language         2.9.1\n",
            "google-cloud-storage          2.8.0\n",
            "google-cloud-translate        3.11.1\n",
            "google-colab                  1.0.0\n",
            "google-crc32c                 1.5.0\n",
            "google-pasta                  0.2.0\n",
            "google-resumable-media        2.5.0\n",
            "googleapis-common-protos      1.59.0\n",
            "googledrivedownloader         0.4\n",
            "graphviz                      0.20.1\n",
            "greenlet                      2.0.2\n",
            "grpcio                        1.54.0\n",
            "grpcio-status                 1.48.2\n",
            "gspread                       3.4.2\n",
            "gspread-dataframe             3.0.8\n",
            "gym                           0.25.2\n",
            "gym-notices                   0.0.8\n",
            "h5netcdf                      1.1.0\n",
            "h5py                          3.8.0\n",
            "hijri-converter               2.3.1\n",
            "holidays                      0.23\n",
            "holoviews                     1.15.4\n",
            "html5lib                      1.1\n",
            "httpimport                    1.3.0\n",
            "httplib2                      0.21.0\n",
            "humanize                      4.6.0\n",
            "hyperopt                      0.2.7\n",
            "idna                          3.4\n",
            "imageio                       2.25.1\n",
            "imageio-ffmpeg                0.4.8\n",
            "imagesize                     1.4.1\n",
            "imbalanced-learn              0.10.1\n",
            "imgaug                        0.4.0\n",
            "importlib-resources           5.12.0\n",
            "imutils                       0.5.4\n",
            "inflect                       6.0.4\n",
            "iniconfig                     2.0.0\n",
            "intel-openmp                  2023.1.0\n",
            "ipykernel                     5.5.6\n",
            "ipython                       7.34.0\n",
            "ipython-genutils              0.2.0\n",
            "ipython-sql                   0.4.1\n",
            "ipywidgets                    7.7.1\n",
            "itsdangerous                  2.1.2\n",
            "jax                           0.4.8\n",
            "jaxlib                        0.4.7+cuda11.cudnn86\n",
            "jieba                         0.42.1\n",
            "Jinja2                        3.1.2\n",
            "joblib                        1.2.0\n",
            "jsonpickle                    3.0.1\n",
            "jsonschema                    4.3.3\n",
            "jupyter-client                6.1.12\n",
            "jupyter-console               6.1.0\n",
            "jupyter_core                  5.3.0\n",
            "jupyter-server                1.24.0\n",
            "jupyterlab-pygments           0.2.2\n",
            "jupyterlab-widgets            3.0.7\n",
            "kaggle                        1.5.13\n",
            "keras                         2.12.0\n",
            "kiwisolver                    1.4.4\n",
            "korean-lunar-calendar         0.3.1\n",
            "langcodes                     3.3.0\n",
            "lazy_loader                   0.2\n",
            "libclang                      16.0.0\n",
            "librosa                       0.9.2\n",
            "lightgbm                      3.3.5\n",
            "lit                           16.0.3\n",
            "llvmlite                      0.39.1\n",
            "locket                        1.0.0\n",
            "logical-unification           0.4.5\n",
            "LunarCalendar                 0.0.9\n",
            "lxml                          4.9.2\n",
            "Markdown                      3.4.3\n",
            "markdown-it-py                2.2.0\n",
            "MarkupSafe                    2.1.2\n",
            "matplotlib                    3.7.1\n",
            "matplotlib-inline             0.1.6\n",
            "matplotlib-venn               0.11.9\n",
            "mdurl                         0.1.2\n",
            "miniKanren                    1.0.3\n",
            "missingno                     0.5.2\n",
            "mistune                       0.8.4\n",
            "mizani                        0.8.1\n",
            "mkl                           2019.0\n",
            "ml-dtypes                     0.1.0\n",
            "mlxtend                       0.14.0\n",
            "more-itertools                9.1.0\n",
            "moviepy                       1.0.3\n",
            "mpmath                        1.3.0\n",
            "msgpack                       1.0.5\n",
            "multipledispatch              0.6.0\n",
            "multitasking                  0.0.11\n",
            "murmurhash                    1.0.9\n",
            "music21                       8.1.0\n",
            "natsort                       8.3.1\n",
            "nbclient                      0.7.4\n",
            "nbconvert                     6.5.4\n",
            "nbformat                      5.8.0\n",
            "nest-asyncio                  1.5.6\n",
            "networkx                      3.1\n",
            "nibabel                       3.0.2\n",
            "nltk                          3.8.1\n",
            "notebook                      6.4.8\n",
            "numba                         0.56.4\n",
            "numexpr                       2.8.4\n",
            "numpy                         1.22.4\n",
            "oauth2client                  4.1.3\n",
            "oauthlib                      3.2.2\n",
            "opencv-contrib-python         4.7.0.72\n",
            "opencv-python                 4.7.0.72\n",
            "opencv-python-headless        4.7.0.72\n",
            "openpyxl                      3.0.10\n",
            "opt-einsum                    3.3.0\n",
            "optax                         0.1.5\n",
            "orbax-checkpoint              0.2.1\n",
            "osqp                          0.6.2.post8\n",
            "packaging                     23.1\n",
            "palettable                    3.3.3\n",
            "pandas                        1.5.3\n",
            "pandas-datareader             0.10.0\n",
            "pandas-gbq                    0.17.9\n",
            "pandocfilters                 1.5.0\n",
            "panel                         0.14.4\n",
            "param                         1.13.0\n",
            "parso                         0.8.3\n",
            "partd                         1.4.0\n",
            "pathlib                       1.0.1\n",
            "pathy                         0.10.1\n",
            "patsy                         0.5.3\n",
            "pexpect                       4.8.0\n",
            "pickleshare                   0.7.5\n",
            "Pillow                        8.4.0\n",
            "pip                           23.1.2\n",
            "pip-tools                     6.13.0\n",
            "platformdirs                  3.3.0\n",
            "plotly                        5.13.1\n",
            "plotnine                      0.10.1\n",
            "pluggy                        1.0.0\n",
            "polars                        0.17.3\n",
            "pooch                         1.6.0\n",
            "portpicker                    1.3.9\n",
            "prefetch-generator            1.0.3\n",
            "preshed                       3.0.8\n",
            "prettytable                   0.7.2\n",
            "proglog                       0.1.10\n",
            "progressbar2                  4.2.0\n",
            "prometheus-client             0.16.0\n",
            "promise                       2.3\n",
            "prompt-toolkit                3.0.38\n",
            "prophet                       1.1.2\n",
            "proto-plus                    1.22.2\n",
            "protobuf                      3.20.3\n",
            "psutil                        5.9.5\n",
            "psycopg2                      2.9.6\n",
            "ptyprocess                    0.7.0\n",
            "py-cpuinfo                    9.0.0\n",
            "py4j                          0.10.9.7\n",
            "pyarrow                       9.0.0\n",
            "pyasn1                        0.5.0\n",
            "pyasn1-modules                0.3.0\n",
            "pycocotools                   2.0.6\n",
            "pycparser                     2.21\n",
            "pyct                          0.5.0\n",
            "pydantic                      1.10.7\n",
            "pydata-google-auth            1.7.0\n",
            "pydot                         1.4.2\n",
            "pydot-ng                      2.0.0\n",
            "pydotplus                     2.0.2\n",
            "PyDrive                       1.3.1\n",
            "pyerfa                        2.0.0.3\n",
            "pygame                        2.3.0\n",
            "Pygments                      2.14.0\n",
            "PyGObject                     3.36.0\n",
            "pymc                          5.1.2\n",
            "PyMeeus                       0.5.12\n",
            "pymystem3                     0.2.0\n",
            "PyOpenGL                      3.1.6\n",
            "pyparsing                     3.0.9\n",
            "pyproject_hooks               1.0.0\n",
            "pyrsistent                    0.19.3\n",
            "PySocks                       1.7.1\n",
            "pytensor                      2.10.1\n",
            "pytest                        7.2.2\n",
            "python-apt                    0.0.0\n",
            "python-dateutil               2.8.2\n",
            "python-louvain                0.16\n",
            "python-slugify                8.0.1\n",
            "python-utils                  3.5.2\n",
            "pytz                          2022.7.1\n",
            "pytz-deprecation-shim         0.1.0.post0\n",
            "pyviz-comms                   2.2.1\n",
            "PyWavelets                    1.4.1\n",
            "pyworld                       0.2.10\n",
            "PyYAML                        6.0\n",
            "pyzmq                         23.2.1\n",
            "qdldl                         0.1.7\n",
            "qudida                        0.0.4\n",
            "regex                         2022.10.31\n",
            "requests                      2.27.1\n",
            "requests-oauthlib             1.3.1\n",
            "requests-unixsocket           0.2.0\n",
            "requirements-parser           0.5.0\n",
            "resampy                       0.4.2\n",
            "rich                          13.3.4\n",
            "rpy2                          3.5.5\n",
            "rsa                           4.9\n",
            "scikit-image                  0.19.3\n",
            "scikit-learn                  1.2.2\n",
            "scipy                         1.10.1\n",
            "scs                           3.2.3\n",
            "seaborn                       0.12.2\n",
            "Send2Trash                    1.8.0\n",
            "setuptools                    67.7.2\n",
            "shapely                       2.0.1\n",
            "six                           1.16.0\n",
            "sklearn-pandas                2.2.0\n",
            "smart-open                    6.3.0\n",
            "sniffio                       1.3.0\n",
            "snowballstemmer               2.2.0\n",
            "sortedcontainers              2.4.0\n",
            "soundfile                     0.12.1\n",
            "soupsieve                     2.4.1\n",
            "soxr                          0.3.5\n",
            "spacy                         3.5.2\n",
            "spacy-legacy                  3.0.12\n",
            "spacy-loggers                 1.0.4\n",
            "Sphinx                        3.5.4\n",
            "sphinxcontrib-applehelp       1.0.4\n",
            "sphinxcontrib-devhelp         1.0.2\n",
            "sphinxcontrib-htmlhelp        2.0.1\n",
            "sphinxcontrib-jsmath          1.0.1\n",
            "sphinxcontrib-qthelp          1.0.3\n",
            "sphinxcontrib-serializinghtml 1.1.5\n",
            "SQLAlchemy                    2.0.10\n",
            "sqlparse                      0.4.4\n",
            "srsly                         2.4.6\n",
            "statsmodels                   0.13.5\n",
            "sympy                         1.11.1\n",
            "tables                        3.8.0\n",
            "tabulate                      0.8.10\n",
            "tblib                         1.7.0\n",
            "tenacity                      8.2.2\n",
            "tensorboard                   2.12.2\n",
            "tensorboard-data-server       0.7.0\n",
            "tensorboard-plugin-wit        1.8.1\n",
            "tensorflow                    2.12.0\n",
            "tensorflow-datasets           4.9.2\n",
            "tensorflow-estimator          2.12.0\n",
            "tensorflow-gcs-config         2.12.0\n",
            "tensorflow-hub                0.13.0\n",
            "tensorflow-io-gcs-filesystem  0.32.0\n",
            "tensorflow-metadata           1.13.1\n",
            "tensorflow-probability        0.20.0\n",
            "tensorstore                   0.1.36\n",
            "termcolor                     2.3.0\n",
            "terminado                     0.17.1\n",
            "text-unidecode                1.3\n",
            "textblob                      0.17.1\n",
            "tf-slim                       1.1.0\n",
            "tgt                           1.4.4\n",
            "thinc                         8.1.9\n",
            "threadpoolctl                 3.1.0\n",
            "tifffile                      2023.4.12\n",
            "tinycss2                      1.2.1\n",
            "toml                          0.10.2\n",
            "tomli                         2.0.1\n",
            "toolz                         0.12.0\n",
            "torch                         2.0.0+cu118\n",
            "torchaudio                    2.0.1+cu118\n",
            "torchdata                     0.6.0\n",
            "torchsummary                  1.5.1\n",
            "torchtext                     0.15.1\n",
            "torchvision                   0.15.1+cu118\n",
            "tornado                       6.3.1\n",
            "tqdm                          4.65.0\n",
            "traitlets                     5.7.1\n",
            "triton                        2.0.0\n",
            "tweepy                        4.13.0\n",
            "typer                         0.7.0\n",
            "types-setuptools              67.7.0.2\n",
            "typing_extensions             4.5.0\n",
            "tzdata                        2023.3\n",
            "tzlocal                       4.3\n",
            "Unidecode                     1.3.6\n",
            "uritemplate                   4.1.1\n",
            "urllib3                       1.26.15\n",
            "vega-datasets                 0.9.0\n",
            "wasabi                        1.1.1\n",
            "wcwidth                       0.2.6\n",
            "webcolors                     1.13\n",
            "webencodings                  0.5.1\n",
            "websocket-client              1.5.1\n",
            "Werkzeug                      2.3.0\n",
            "wheel                         0.40.0\n",
            "widgetsnbextension            3.6.4\n",
            "wordcloud                     1.8.2.2\n",
            "wrapt                         1.14.1\n",
            "xarray                        2022.12.0\n",
            "xarray-einstats               0.5.1\n",
            "xgboost                       1.7.5\n",
            "xlrd                          2.0.1\n",
            "yellowbrick                   1.5\n",
            "yfinance                      0.2.18\n",
            "zict                          3.0.0\n",
            "zipp                          3.15.0\n"
          ]
        },
        {
          "output_type": "stream",
          "name": "stderr",
          "text": [
            "/content/FastSpeech2/audio/stft.py:42: FutureWarning: Pass size=1024 as keyword args. From version 0.10 passing these as positional arguments will result in an error\n",
            "  fft_window = pad_center(fft_window, filter_length)\n",
            "/content/FastSpeech2/audio/stft.py:145: FutureWarning: Pass sr=22050, n_fft=1024, n_mels=80, fmin=0, fmax=8000 as keyword args. From version 0.10 passing these as positional arguments will result in an error\n",
            "  mel_basis = librosa_mel_fn(\n"
          ]
        },
        {
          "output_type": "stream",
          "name": "stdout",
          "text": [
            "Processing Data ...\n"
          ]
        },
        {
          "output_type": "stream",
          "name": "stderr",
          "text": [
            "100%|██████████| 1/1 [00:00<00:00,  1.26it/s]"
          ]
        },
        {
          "output_type": "stream",
          "name": "stdout",
          "text": [
            "Computing statistic quantities ...\n",
            "Total time: 0.010826303854875282 hours\n"
          ]
        },
        {
          "output_type": "stream",
          "name": "stderr",
          "text": [
            "\n"
          ]
        },
        {
          "output_type": "execute_result",
          "data": {
            "text/plain": [
              "['p303_009|universal|{DH EH1 R IH0 Z AH0 K AO1 R D IH0 NG T IH0 L EH1 JH AH0 N D AH0 B OY1 L IH0 NG P AA1 T AH0 V G OW1 L D AE1 T W AH1 N EH1 N D}|there is , according to legend, a boiling pot of gold at one end.',\n",
              " 'p303_001|universal|{P L IY1 Z K AO1 L S T EH1 L AH0}|please call stella.',\n",
              " 'p303_004|universal|{W IY1 AO1 L S OW0 N IY1 D AH0 S M AO1 L P L AE1 S T IH0 K S N EY1 K AE1 N D AH0 B IH1 G T OY1 F R AA1 G F ER0 DH IY0 K IH1 D Z}|we also need a small plastic snake and a big toy frog for the kids.',\n",
              " 'p303_007|universal|{DH AH0 R EY1 N B OW2 IH0 Z AH0 D IH0 V IH1 ZH AH0 N AH0 V W AY1 T L AY1 T IH0 N T AH0 M EH1 N IY0 B Y UW1 T AH0 F AH0 L K AH1 L ER0 Z}|the rainbow is a division of white light into many beautiful colors.',\n",
              " 'p303_002|universal|{AE1 S K HH ER1 T UW1 B R IH1 NG DH IY1 Z TH IH1 NG Z W IH1 TH HH ER0 F R AH1 M DH AH0 S T AO1 R}|ask her to bring these things with her from the store.',\n",
              " 'p303_005|universal|{SH IY1 K AH0 N S K UW1 P DH IY1 Z TH IH1 NG Z IH0 N T AH0 TH R IY1 R EH1 D B AE1 G Z AE1 N D W IY1 W AH0 L G OW1 M IY1 T HH ER1 W EH1 N Z D EY2 AE1 T DH AH0 T R EY1 N S T EY1 SH AH0 N}|she can scoop these things into three red bags, and we will go meet her wednesday at the train station.',\n",
              " 'p303_006|universal|{HH W IH1 N DH AH0 S AH1 N L AY2 T S T R AY1 K S R EY1 N D R AA2 P S IH1 N DH IY0 EH1 R DH EY1 AE1 K T EH1 Z AH0 P R IH1 Z AH0 M AE1 N D F AO1 R M AH0 R EY1 N B OW2}|when the sunlight strikes raindrops in the air, they act as a prism and form a rainbow.',\n",
              " 'p303_003|universal|{S IH1 K S S P UW1 N Z AH0 V F R EH1 SH S N OW1 P IY1 Z F AY1 V TH IH1 K S L AE1 B Z AH0 V B L UW1 CH IY1 Z AE1 N D M EY1 B IY0 EY1 S N AE1 K F R ER0 HH ER0 B R AH1 DH ER0 B AA1 B}|six spoons of fresh snow peas, five thick slabs of blue cheese, and maybe a snack for her brother bob.',\n",
              " 'p303_008|universal|{DH IY1 Z T EY1 K DH IY0 SH EY1 P AH0 V AH0 L AO1 NG R AW1 N D AA1 R CH W IH0 TH IH1 T S P AE1 TH HH AY1 AH0 B AH1 V AE1 N D IH1 T S T UW1 EH1 N D Z AH0 P EH1 R AH0 N T L IY0 B IY2 AO1 N D DH AH0 HH ER0 AY1 Z AH0 N}|these take the shape of a long round arch, with its path high above, and its two ends apparently beyond the horizon.']"
            ]
          },
          "metadata": {},
          "execution_count": 11
        }
      ]
    },
    {
      "cell_type": "markdown",
      "source": [
        "## Save out dataset\n"
      ],
      "metadata": {
        "id": "ISDI0-_jfIkX"
      }
    },
    {
      "cell_type": "code",
      "source": [
        "%cd /content/\n",
        "\n",
        "zip_name = f'{dataset_name}.zip'\n",
        "\n",
        "!echo Saving dataset as $zip_name at $output_zip_path\n",
        "!zip -q $zip_name $output_path\n",
        "!cp $zip_name $output_zip_path\n",
        "!echo Done, copied to $output_zip_path"
      ],
      "metadata": {
        "colab": {
          "base_uri": "https://localhost:8080/"
        },
        "id": "awXbGQeFfTRM",
        "outputId": "f18773f1-a62b-4516-f854-c2ba4e309f1a"
      },
      "execution_count": 41,
      "outputs": [
        {
          "output_type": "stream",
          "name": "stdout",
          "text": [
            "/content\n",
            "Saving dataset as MyDataset.zip at /gdrive/MyDrive/output_dataset\n",
            "Done, copied to /gdrive/MyDrive/output_dataset\n"
          ]
        }
      ]
    }
  ]
}