{
  "cells": [
    {
      "attachments": {},
      "cell_type": "markdown",
      "metadata": {
        "id": "xNmrrM_ylkrW"
      },
      "source": [
        "Mount drive"
      ]
    },
    {
      "cell_type": "code",
      "execution_count": null,
      "metadata": {
        "id": "Z60gbCONlepj"
      },
      "outputs": [],
      "source": [
        "from google.colab import drive\n",
        "\n",
        "drive.mount(\"/content/drive\")"
      ]
    },
    {
      "attachments": {},
      "cell_type": "markdown",
      "metadata": {
        "id": "2CSrbDeIloq3"
      },
      "source": [
        "Setup dependencies\n"
      ]
    },
    {
      "cell_type": "code",
      "execution_count": null,
      "metadata": {
        "colab": {
          "base_uri": "https://localhost:8080/"
        },
        "id": "haFIWkj6ls0p",
        "outputId": "e26f18bd-c963-454c-e456-de5ef76b22c4"
      },
      "outputs": [],
      "source": [
        "!git clone https://github.com/v0xie/efficientspeech\n",
        "%cd /content/efficientspeech\n",
        "!git checkout training\n",
        "!mkdir efficientspeech/checkpoints\n",
        "!wget --show-progress --continue -O /content/efficientspeech/checkpoints/ https://github.com/roatienza/efficientspeech/releases/download/icassp2023/base_eng_4M.ckpt \n",
        "!wget --show-progress --continue -O /content/efficientspeech/checkpoints/ https://github.com/roatienza/efficientspeech/releases/download/icassp2023/small_eng_952k.ckpt\n",
        "!wget --show-progress --continue -O /content/efficientspeech/checkpoints/ https://github.com/roatienza/efficientspeech/releases/download/icassp2023/tiny_eng_266k.ckpt "
      ]
    },
    {
      "cell_type": "code",
      "execution_count": null,
      "metadata": {},
      "outputs": [],
      "source": []
    },
    {
      "cell_type": "code",
      "execution_count": null,
      "metadata": {},
      "outputs": [],
      "source": []
    },
    {
      "cell_type": "code",
      "execution_count": 3,
      "metadata": {
        "id": "SdEaVT-nmdPH"
      },
      "outputs": [],
      "source": [
        "!cd efficientspeech/"
      ]
    },
    {
      "attachments": {},
      "cell_type": "markdown",
      "metadata": {
        "id": "GbhGEtVAmM4f"
      },
      "source": [
        "Run inference to test\n"
      ]
    },
    {
      "cell_type": "code",
      "execution_count": null,
      "metadata": {
        "id": "c-ujPqMpmTIB"
      },
      "outputs": [],
      "source": [
        "!python demo.py --checkpoint https://github.com/roatienza/efficientspeech/releases/download/icassp2023/tiny_eng_266k.ckpt \\\n",
        "  --infer-device cpu --text \"the quick brown fox jumps over the lazy dog\" --wav-filename fox.wav"
      ]
    }
  ],
  "metadata": {
    "colab": {
      "provenance": []
    },
    "kernelspec": {
      "display_name": "Python 3",
      "name": "python3"
    },
    "language_info": {
      "name": "python"
    }
  },
  "nbformat": 4,
  "nbformat_minor": 0
}
